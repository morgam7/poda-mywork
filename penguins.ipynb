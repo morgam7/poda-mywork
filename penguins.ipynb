{
 "cells": [
  {
   "cell_type": "markdown",
   "metadata": {},
   "source": [
    "# Palmer Penguins Project\n",
    "\n",
    "***\n",
    "\n",
    "![Palmer Penguins](https://allisonhorst.github.io/palmerpenguins/reference/figures/lter_penguins.png)\n",
    "\n",
    "This notebook contains my project for the Principles of Data Analytics module of the Higher Diploma in Science in Data Analytics given by ATU Galway-Mayo.\n",
    "\n",
    "The dataset is available [on github](https://allisonhorst.github.io/palmerpenguins/).\n",
    "\n",
    "I used [openincolab.com](https://openincolab.com/) to generate the following clickable badge:\n",
    "\n",
    "<a target=\"_blank\" href=\"https://colab.research.google.com/github/morgam7/poda-mywork/blob/main/penguins.ipynb\">\n",
    "  <img src=\"https://colab.research.google.com/assets/colab-badge.svg\" alt=\"Open In Colab\"/>\n",
    "</a>\n",
    "\n",
    "It will open this notebook in [Google colab](https://colab.research.google.com/).\n",
    "\n",
    "\n"
   ]
  },
  {
   "cell_type": "markdown",
   "metadata": {},
   "source": [
    "# Imports\n",
    "\n",
    "We use pandas for the DataFrame data structure.\n",
    "\n",
    "It allows us to investigate CSV files, amongst other things."
   ]
  },
  {
   "cell_type": "code",
   "execution_count": 1,
   "metadata": {},
   "outputs": [],
   "source": [
    "# Data frames.\n",
    "import pandas as pd\n",
    "import matplotlib.pyplot as plt\n",
    "import seaborn as sns\n",
    "import numpy as np"
   ]
  },
  {
   "cell_type": "markdown",
   "metadata": {},
   "source": [
    "# Load Data\n",
    "\n",
    "Load the Palmer Penguins Dataset from a url."
   ]
  },
  {
   "cell_type": "code",
   "execution_count": 2,
   "metadata": {},
   "outputs": [],
   "source": [
    "# Load the penguins data set.\n",
    "df = pd.read_csv(\"https://raw.githubusercontent.com/mwaskom/seaborn-data/master/penguins.csv\")"
   ]
  },
  {
   "cell_type": "code",
   "execution_count": 3,
   "metadata": {},
   "outputs": [
    {
     "data": {
      "text/html": [
       "<div>\n",
       "<style scoped>\n",
       "    .dataframe tbody tr th:only-of-type {\n",
       "        vertical-align: middle;\n",
       "    }\n",
       "\n",
       "    .dataframe tbody tr th {\n",
       "        vertical-align: top;\n",
       "    }\n",
       "\n",
       "    .dataframe thead th {\n",
       "        text-align: right;\n",
       "    }\n",
       "</style>\n",
       "<table border=\"1\" class=\"dataframe\">\n",
       "  <thead>\n",
       "    <tr style=\"text-align: right;\">\n",
       "      <th></th>\n",
       "      <th>species</th>\n",
       "      <th>island</th>\n",
       "      <th>bill_length_mm</th>\n",
       "      <th>bill_depth_mm</th>\n",
       "      <th>flipper_length_mm</th>\n",
       "      <th>body_mass_g</th>\n",
       "      <th>sex</th>\n",
       "    </tr>\n",
       "  </thead>\n",
       "  <tbody>\n",
       "    <tr>\n",
       "      <th>0</th>\n",
       "      <td>Adelie</td>\n",
       "      <td>Torgersen</td>\n",
       "      <td>39.1</td>\n",
       "      <td>18.7</td>\n",
       "      <td>181.0</td>\n",
       "      <td>3750.0</td>\n",
       "      <td>MALE</td>\n",
       "    </tr>\n",
       "    <tr>\n",
       "      <th>1</th>\n",
       "      <td>Adelie</td>\n",
       "      <td>Torgersen</td>\n",
       "      <td>39.5</td>\n",
       "      <td>17.4</td>\n",
       "      <td>186.0</td>\n",
       "      <td>3800.0</td>\n",
       "      <td>FEMALE</td>\n",
       "    </tr>\n",
       "    <tr>\n",
       "      <th>2</th>\n",
       "      <td>Adelie</td>\n",
       "      <td>Torgersen</td>\n",
       "      <td>40.3</td>\n",
       "      <td>18.0</td>\n",
       "      <td>195.0</td>\n",
       "      <td>3250.0</td>\n",
       "      <td>FEMALE</td>\n",
       "    </tr>\n",
       "    <tr>\n",
       "      <th>3</th>\n",
       "      <td>Adelie</td>\n",
       "      <td>Torgersen</td>\n",
       "      <td>NaN</td>\n",
       "      <td>NaN</td>\n",
       "      <td>NaN</td>\n",
       "      <td>NaN</td>\n",
       "      <td>NaN</td>\n",
       "    </tr>\n",
       "    <tr>\n",
       "      <th>4</th>\n",
       "      <td>Adelie</td>\n",
       "      <td>Torgersen</td>\n",
       "      <td>36.7</td>\n",
       "      <td>19.3</td>\n",
       "      <td>193.0</td>\n",
       "      <td>3450.0</td>\n",
       "      <td>FEMALE</td>\n",
       "    </tr>\n",
       "    <tr>\n",
       "      <th>...</th>\n",
       "      <td>...</td>\n",
       "      <td>...</td>\n",
       "      <td>...</td>\n",
       "      <td>...</td>\n",
       "      <td>...</td>\n",
       "      <td>...</td>\n",
       "      <td>...</td>\n",
       "    </tr>\n",
       "    <tr>\n",
       "      <th>339</th>\n",
       "      <td>Gentoo</td>\n",
       "      <td>Biscoe</td>\n",
       "      <td>NaN</td>\n",
       "      <td>NaN</td>\n",
       "      <td>NaN</td>\n",
       "      <td>NaN</td>\n",
       "      <td>NaN</td>\n",
       "    </tr>\n",
       "    <tr>\n",
       "      <th>340</th>\n",
       "      <td>Gentoo</td>\n",
       "      <td>Biscoe</td>\n",
       "      <td>46.8</td>\n",
       "      <td>14.3</td>\n",
       "      <td>215.0</td>\n",
       "      <td>4850.0</td>\n",
       "      <td>FEMALE</td>\n",
       "    </tr>\n",
       "    <tr>\n",
       "      <th>341</th>\n",
       "      <td>Gentoo</td>\n",
       "      <td>Biscoe</td>\n",
       "      <td>50.4</td>\n",
       "      <td>15.7</td>\n",
       "      <td>222.0</td>\n",
       "      <td>5750.0</td>\n",
       "      <td>MALE</td>\n",
       "    </tr>\n",
       "    <tr>\n",
       "      <th>342</th>\n",
       "      <td>Gentoo</td>\n",
       "      <td>Biscoe</td>\n",
       "      <td>45.2</td>\n",
       "      <td>14.8</td>\n",
       "      <td>212.0</td>\n",
       "      <td>5200.0</td>\n",
       "      <td>FEMALE</td>\n",
       "    </tr>\n",
       "    <tr>\n",
       "      <th>343</th>\n",
       "      <td>Gentoo</td>\n",
       "      <td>Biscoe</td>\n",
       "      <td>49.9</td>\n",
       "      <td>16.1</td>\n",
       "      <td>213.0</td>\n",
       "      <td>5400.0</td>\n",
       "      <td>MALE</td>\n",
       "    </tr>\n",
       "  </tbody>\n",
       "</table>\n",
       "<p>344 rows × 7 columns</p>\n",
       "</div>"
      ],
      "text/plain": [
       "    species     island  bill_length_mm  bill_depth_mm  flipper_length_mm  \\\n",
       "0    Adelie  Torgersen            39.1           18.7              181.0   \n",
       "1    Adelie  Torgersen            39.5           17.4              186.0   \n",
       "2    Adelie  Torgersen            40.3           18.0              195.0   \n",
       "3    Adelie  Torgersen             NaN            NaN                NaN   \n",
       "4    Adelie  Torgersen            36.7           19.3              193.0   \n",
       "..      ...        ...             ...            ...                ...   \n",
       "339  Gentoo     Biscoe             NaN            NaN                NaN   \n",
       "340  Gentoo     Biscoe            46.8           14.3              215.0   \n",
       "341  Gentoo     Biscoe            50.4           15.7              222.0   \n",
       "342  Gentoo     Biscoe            45.2           14.8              212.0   \n",
       "343  Gentoo     Biscoe            49.9           16.1              213.0   \n",
       "\n",
       "     body_mass_g     sex  \n",
       "0         3750.0    MALE  \n",
       "1         3800.0  FEMALE  \n",
       "2         3250.0  FEMALE  \n",
       "3            NaN     NaN  \n",
       "4         3450.0  FEMALE  \n",
       "..           ...     ...  \n",
       "339          NaN     NaN  \n",
       "340       4850.0  FEMALE  \n",
       "341       5750.0    MALE  \n",
       "342       5200.0  FEMALE  \n",
       "343       5400.0    MALE  \n",
       "\n",
       "[344 rows x 7 columns]"
      ]
     },
     "execution_count": 3,
     "metadata": {},
     "output_type": "execute_result"
    }
   ],
   "source": [
    "# Let's have a look.\n",
    "df"
   ]
  },
  {
   "cell_type": "code",
   "execution_count": 4,
   "metadata": {},
   "outputs": [
    {
     "data": {
      "text/html": [
       "<div>\n",
       "<style scoped>\n",
       "    .dataframe tbody tr th:only-of-type {\n",
       "        vertical-align: middle;\n",
       "    }\n",
       "\n",
       "    .dataframe tbody tr th {\n",
       "        vertical-align: top;\n",
       "    }\n",
       "\n",
       "    .dataframe thead th {\n",
       "        text-align: right;\n",
       "    }\n",
       "</style>\n",
       "<table border=\"1\" class=\"dataframe\">\n",
       "  <thead>\n",
       "    <tr style=\"text-align: right;\">\n",
       "      <th></th>\n",
       "      <th>bill_length_mm</th>\n",
       "      <th>bill_depth_mm</th>\n",
       "      <th>flipper_length_mm</th>\n",
       "      <th>body_mass_g</th>\n",
       "    </tr>\n",
       "  </thead>\n",
       "  <tbody>\n",
       "    <tr>\n",
       "      <th>count</th>\n",
       "      <td>342.000000</td>\n",
       "      <td>342.000000</td>\n",
       "      <td>342.000000</td>\n",
       "      <td>342.000000</td>\n",
       "    </tr>\n",
       "    <tr>\n",
       "      <th>mean</th>\n",
       "      <td>43.921930</td>\n",
       "      <td>17.151170</td>\n",
       "      <td>200.915205</td>\n",
       "      <td>4201.754386</td>\n",
       "    </tr>\n",
       "    <tr>\n",
       "      <th>std</th>\n",
       "      <td>5.459584</td>\n",
       "      <td>1.974793</td>\n",
       "      <td>14.061714</td>\n",
       "      <td>801.954536</td>\n",
       "    </tr>\n",
       "    <tr>\n",
       "      <th>min</th>\n",
       "      <td>32.100000</td>\n",
       "      <td>13.100000</td>\n",
       "      <td>172.000000</td>\n",
       "      <td>2700.000000</td>\n",
       "    </tr>\n",
       "    <tr>\n",
       "      <th>25%</th>\n",
       "      <td>39.225000</td>\n",
       "      <td>15.600000</td>\n",
       "      <td>190.000000</td>\n",
       "      <td>3550.000000</td>\n",
       "    </tr>\n",
       "    <tr>\n",
       "      <th>50%</th>\n",
       "      <td>44.450000</td>\n",
       "      <td>17.300000</td>\n",
       "      <td>197.000000</td>\n",
       "      <td>4050.000000</td>\n",
       "    </tr>\n",
       "    <tr>\n",
       "      <th>75%</th>\n",
       "      <td>48.500000</td>\n",
       "      <td>18.700000</td>\n",
       "      <td>213.000000</td>\n",
       "      <td>4750.000000</td>\n",
       "    </tr>\n",
       "    <tr>\n",
       "      <th>max</th>\n",
       "      <td>59.600000</td>\n",
       "      <td>21.500000</td>\n",
       "      <td>231.000000</td>\n",
       "      <td>6300.000000</td>\n",
       "    </tr>\n",
       "  </tbody>\n",
       "</table>\n",
       "</div>"
      ],
      "text/plain": [
       "       bill_length_mm  bill_depth_mm  flipper_length_mm  body_mass_g\n",
       "count      342.000000     342.000000         342.000000   342.000000\n",
       "mean        43.921930      17.151170         200.915205  4201.754386\n",
       "std          5.459584       1.974793          14.061714   801.954536\n",
       "min         32.100000      13.100000         172.000000  2700.000000\n",
       "25%         39.225000      15.600000         190.000000  3550.000000\n",
       "50%         44.450000      17.300000         197.000000  4050.000000\n",
       "75%         48.500000      18.700000         213.000000  4750.000000\n",
       "max         59.600000      21.500000         231.000000  6300.000000"
      ]
     },
     "execution_count": 4,
     "metadata": {},
     "output_type": "execute_result"
    }
   ],
   "source": [
    "# Describe the data set.\n",
    "df.describe()"
   ]
  },
  {
   "cell_type": "code",
   "execution_count": 5,
   "metadata": {},
   "outputs": [],
   "source": [
    "# Converting data to numpy arrays\n",
    "\n",
    "\n",
    "\n",
    "# bill length\n",
    "blen = df[\"bill_length_mm\"]. to_numpy()\n",
    "\n",
    "# bill depth\n",
    "blepth = df[\"bill_depth_mm\"]. to_numpy()\n",
    "\n",
    "# flipper length\n",
    "flen = df[\"flipper_length_mm\"]. to_numpy()\n",
    "\n",
    "# body_mass\n",
    "mass = df[\"body_mass_g\"]. to_numpy()\n",
    "\n"
   ]
  },
  {
   "cell_type": "markdown",
   "metadata": {},
   "source": [
    "## Overview of the data set\n",
    "\n"
   ]
  },
  {
   "cell_type": "markdown",
   "metadata": {},
   "source": [
    "I found a [helpful video](https://www.bing.com/videos/riverview/relatedvideo?q=palmer+penguins+dataset+variables&mid=55D478EACFBA66E11FEB55D478EACFBA66E11FEB&FORM=VIRE) giving a overview of the dataset and some ideas for how to use it in my analysis. This video also pointed me to the [original research paper](https://journals.plos.org/plosone/article?id=10.1371/journal.pone.0090081) that the dataset was derived from. The paper focuses on sexual dimorphism and environmental variability."
   ]
  },
  {
   "cell_type": "code",
   "execution_count": 6,
   "metadata": {},
   "outputs": [
    {
     "data": {
      "text/plain": [
       "0        MALE\n",
       "1      FEMALE\n",
       "2      FEMALE\n",
       "3         NaN\n",
       "4      FEMALE\n",
       "        ...  \n",
       "339       NaN\n",
       "340    FEMALE\n",
       "341      MALE\n",
       "342    FEMALE\n",
       "343      MALE\n",
       "Name: sex, Length: 344, dtype: object"
      ]
     },
     "execution_count": 6,
     "metadata": {},
     "output_type": "execute_result"
    }
   ],
   "source": [
    "# Sex of penguins.\n",
    "df['sex']"
   ]
  },
  {
   "cell_type": "code",
   "execution_count": 7,
   "metadata": {},
   "outputs": [
    {
     "data": {
      "text/plain": [
       "sex\n",
       "MALE      168\n",
       "FEMALE    165\n",
       "Name: count, dtype: int64"
      ]
     },
     "execution_count": 7,
     "metadata": {},
     "output_type": "execute_result"
    }
   ],
   "source": [
    "# Count the number of penguins of each sex.\n",
    "df ['sex'].value_counts()\n"
   ]
  },
  {
   "cell_type": "markdown",
   "metadata": {},
   "source": [
    "### The Variables"
   ]
  },
  {
   "cell_type": "code",
   "execution_count": 8,
   "metadata": {},
   "outputs": [
    {
     "data": {
      "text/plain": [
       "species                 Adelie\n",
       "island               Torgersen\n",
       "bill_length_mm            39.1\n",
       "bill_depth_mm             18.7\n",
       "flipper_length_mm        181.0\n",
       "body_mass_g             3750.0\n",
       "sex                       MALE\n",
       "Name: 0, dtype: object"
      ]
     },
     "execution_count": 8,
     "metadata": {},
     "output_type": "execute_result"
    }
   ],
   "source": [
    "# Look at the first row.\n",
    "df.iloc[0]"
   ]
  },
  {
   "cell_type": "markdown",
   "metadata": {},
   "source": [
    "There are two types of variables in the Palmer Penguin data set. There are quantitative variables, which are variables with numerical values, and qualitative variables, which are variables that represent categories or groups. \n",
    "\n",
    "The quantitative variables are the bill length, bill depth, flipper length and body mass and the qualitative variables are species, island and sex."
   ]
  },
  {
   "cell_type": "markdown",
   "metadata": {},
   "source": [
    "The type of variable will determine the type of plot it is best to use. For instance histograms are best to use for one continuos quantitative variable, but if you want to visualise more than one quantitative variable a scatterplot is needed. Bar charts are used to display qualitative variables.\n",
    "\n",
    "I had to do some research on [which types of plots worked with the different types of variables](https://piktochart.com/blog/types-of-graphs/#areagraph). I was especially confused about [the difference between bar charts and histograms](https://www.storytellingwithdata.com/blog/2021/1/28/histograms-and-bar-charts#:~:text=Histograms%20visualize%20quantitative%20data%20or,bar%20charts%20display%20categorical%20variables)."
   ]
  },
  {
   "cell_type": "markdown",
   "metadata": {},
   "source": [
    "### Bar chart"
   ]
  },
  {
   "cell_type": "markdown",
   "metadata": {},
   "source": [
    "I was curious about if there are any sex differences in the mass of the penguins. My assumption would be that the females are smaller than the males, becasue that it usually the case. It would be interesting to see if my gender prejudice is correct. \n",
    "\n",
    "I decided to make a simple bar chart that plots the mean mass of male vs female penguins.\n",
    "\n",
    "I found [this simple tutorial](https://www.w3schools.com/python/matplotlib_bars.asp) useful for understanding how to make bar charts. It looked straight forward enough but getting the dataset to make the bar chart was a bit more complicated. \n",
    "\n",
    "To get the mean mass of each gender I needed to seperate out the male and female data. [This site](https://datagy.io/filter-pandas/) gave a simple tutorial on how to filter Pandas dataframes. "
   ]
  },
  {
   "cell_type": "code",
   "execution_count": 9,
   "metadata": {},
   "outputs": [
    {
     "name": "stdout",
     "output_type": "stream",
     "text": [
      "    species     island  bill_length_mm  bill_depth_mm  flipper_length_mm  \\\n",
      "0    Adelie  Torgersen            39.1           18.7              181.0   \n",
      "5    Adelie  Torgersen            39.3           20.6              190.0   \n",
      "7    Adelie  Torgersen            39.2           19.6              195.0   \n",
      "13   Adelie  Torgersen            38.6           21.2              191.0   \n",
      "14   Adelie  Torgersen            34.6           21.1              198.0   \n",
      "..      ...        ...             ...            ...                ...   \n",
      "333  Gentoo     Biscoe            51.5           16.3              230.0   \n",
      "335  Gentoo     Biscoe            55.1           16.0              230.0   \n",
      "337  Gentoo     Biscoe            48.8           16.2              222.0   \n",
      "341  Gentoo     Biscoe            50.4           15.7              222.0   \n",
      "343  Gentoo     Biscoe            49.9           16.1              213.0   \n",
      "\n",
      "     body_mass_g   sex  \n",
      "0         3750.0  MALE  \n",
      "5         3650.0  MALE  \n",
      "7         4675.0  MALE  \n",
      "13        3800.0  MALE  \n",
      "14        4400.0  MALE  \n",
      "..           ...   ...  \n",
      "333       5500.0  MALE  \n",
      "335       5850.0  MALE  \n",
      "337       6000.0  MALE  \n",
      "341       5750.0  MALE  \n",
      "343       5400.0  MALE  \n",
      "\n",
      "[168 rows x 7 columns]\n",
      "    species     island  bill_length_mm  bill_depth_mm  flipper_length_mm  \\\n",
      "1    Adelie  Torgersen            39.5           17.4              186.0   \n",
      "2    Adelie  Torgersen            40.3           18.0              195.0   \n",
      "4    Adelie  Torgersen            36.7           19.3              193.0   \n",
      "6    Adelie  Torgersen            38.9           17.8              181.0   \n",
      "12   Adelie  Torgersen            41.1           17.6              182.0   \n",
      "..      ...        ...             ...            ...                ...   \n",
      "332  Gentoo     Biscoe            43.5           15.2              213.0   \n",
      "334  Gentoo     Biscoe            46.2           14.1              217.0   \n",
      "338  Gentoo     Biscoe            47.2           13.7              214.0   \n",
      "340  Gentoo     Biscoe            46.8           14.3              215.0   \n",
      "342  Gentoo     Biscoe            45.2           14.8              212.0   \n",
      "\n",
      "     body_mass_g     sex  \n",
      "1         3800.0  FEMALE  \n",
      "2         3250.0  FEMALE  \n",
      "4         3450.0  FEMALE  \n",
      "6         3625.0  FEMALE  \n",
      "12        3200.0  FEMALE  \n",
      "..           ...     ...  \n",
      "332       4650.0  FEMALE  \n",
      "334       4375.0  FEMALE  \n",
      "338       4925.0  FEMALE  \n",
      "340       4850.0  FEMALE  \n",
      "342       5200.0  FEMALE  \n",
      "\n",
      "[165 rows x 7 columns]\n",
      "[3750. 3650. 4675. 3800. 4400. 4500. 4200. 3600. 3950. 3800. 3550. 3950.\n",
      " 3900. 3900. 4150. 3950. 4650. 3900. 4400. 4600. 3425. 4150. 4300. 4050.\n",
      " 3700. 3800. 3750. 4400. 4050. 3950. 4100. 4450. 3900. 4150. 4250. 3900.\n",
      " 4000. 4700. 4200. 3550. 3800. 3950. 4300. 4450. 4300. 4350. 4100. 4725.\n",
      " 4250. 3550. 3900. 4775. 4600. 4275. 4075. 3775. 3325. 3500. 3875. 4000.\n",
      " 4300. 4000. 3500. 4475. 3900. 3975. 4250. 3475. 3725. 3650. 4250. 3750.\n",
      " 4000. 3900. 3650. 3725. 3750. 3700. 3775. 4050. 4050. 3300. 4400. 3400.\n",
      " 3800. 4150. 3800. 4550. 4300. 4100. 3600. 4800. 4500. 3950. 3550. 4450.\n",
      " 4300. 3250. 3950. 4050. 3450. 4050. 3800. 3950. 4000. 3775. 4100. 5700.\n",
      " 5700. 5400. 5200. 5150. 5550. 5850. 5850. 6300. 5350. 5700. 5050. 5100.\n",
      " 5650. 5550. 5250. 6050. 5400. 5250. 5350. 5700. 4750. 5550. 5400. 5300.\n",
      " 5300. 5000. 5050. 5000. 5550. 5300. 5650. 5700. 5800. 5550. 5000. 5100.\n",
      " 5800. 6000. 5950. 5450. 5350. 5600. 5300. 5550. 5400. 5650. 5200. 4925.\n",
      " 5250. 5600. 5500. 5500. 5500. 5500. 5950. 5500. 5850. 6000. 5750. 5400.]\n",
      "[3800. 3250. 3450. 3625. 3200. 3700. 3450. 3325. 3400. 3800. 3800. 3200.\n",
      " 3150. 3250. 3300. 3325. 3550. 3300. 3150. 3100. 3000. 3450. 3500. 3450.\n",
      " 2900. 3550. 2850. 3150. 3600. 2850. 3350. 3050. 3600. 3550. 3700. 3700.\n",
      " 3550. 3200. 3800. 3350. 3500. 3600. 3550. 3400. 3300. 3700. 2900. 3725.\n",
      " 3075. 2925. 3750. 3175. 3825. 3200. 3900. 2900. 3350. 3150. 3450. 3050.\n",
      " 3275. 3050. 3325. 3500. 3425. 3175. 3400. 3400. 3050. 3000. 3475. 3450.\n",
      " 3700. 3500. 3525. 3950. 3250. 4150. 3800. 3700. 3575. 3700. 3450. 3600.\n",
      " 2900. 3300. 3400. 3700. 3200. 3350. 3900. 3850. 2700. 3650. 3500. 3675.\n",
      " 3400. 3675. 3325. 3600. 3350. 3250. 3525. 3650. 3650. 3400. 3775. 4500.\n",
      " 4450. 4550. 4800. 4400. 4650. 4650. 4200. 4150. 4800. 5000. 4400. 5000.\n",
      " 4600. 4700. 5050. 5150. 4950. 4350. 3950. 4300. 4900. 4200. 5100. 4850.\n",
      " 4400. 4900. 4300. 4450. 4200. 4400. 4700. 4700. 4750. 5200. 4700. 4600.\n",
      " 4750. 4625. 4725. 4750. 4600. 4875. 4950. 4750. 4850. 4875. 4625. 4850.\n",
      " 4975. 4700. 4575. 5000. 4650. 4375. 4925. 4850. 5200.]\n"
     ]
    }
   ],
   "source": [
    "# This filters the rows to a specific string in the data - in this case the strings are MALE and FEMALE\n",
    "\n",
    "maledata = df[df['sex'] =='MALE']\n",
    "femaledata = df[df['sex']=='FEMALE']\n",
    "\n",
    "# Just to check it worked\n",
    "print(maledata)\n",
    "print(femaledata)\n",
    "\n",
    "# Now need to convert to numpy arrays\n",
    "malemass = maledata[\"body_mass_g\"]. to_numpy()\n",
    "femalemass = femaledata[\"body_mass_g\"]. to_numpy() \n",
    "\n",
    "# checking it worked\n",
    "print(malemass)\n",
    "print(femalemass)\n"
   ]
  },
  {
   "cell_type": "markdown",
   "metadata": {},
   "source": [
    "Now I need to find the mean of malemass and femalemass. [This site](https://www.geeksforgeeks.org/numpy-mean-in-python/) showed me how."
   ]
  },
  {
   "cell_type": "code",
   "execution_count": 10,
   "metadata": {},
   "outputs": [
    {
     "name": "stdout",
     "output_type": "stream",
     "text": [
      "4545.684523809524\n",
      "3862.2727272727275\n"
     ]
    }
   ],
   "source": [
    "malemassmean = np.mean(malemass)\n",
    "femalemassmean = np.mean(femalemass)\n",
    "\n",
    "#seeing if it worked\n",
    "print(malemassmean)\n",
    "print(femalemassmean)\n"
   ]
  },
  {
   "cell_type": "markdown",
   "metadata": {},
   "source": [
    "And now I can do the bar chart using bar(). Or so I thought but it turned out that I needed to create another dataset with the two means. [This tutorial](https://www.geeksforgeeks.org/bar-plot-in-matplotlib/) gave me the code to do this."
   ]
  },
  {
   "cell_type": "code",
   "execution_count": 11,
   "metadata": {},
   "outputs": [
    {
     "data": {
      "text/plain": [
       "<BarContainer object of 2 artists>"
      ]
     },
     "execution_count": 11,
     "metadata": {},
     "output_type": "execute_result"
    },
    {
     "data": {
      "image/png": "[encoded data removed]",
      "text/plain": [
       "<Figure size 640x480 with 1 Axes>"
      ]
     },
     "metadata": {},
     "output_type": "display_data"
    }
   ],
   "source": [
    "# Creating the dataset and assinging values to the x and y axis. I just needed to name the two bars on the x axis. \n",
    "# The y axis is the mean.\n",
    "data = {'male':malemassmean, 'female':femalemassmean}\n",
    "x = list(data.keys())\n",
    "y = list(data.values())\n",
    "  \n",
    "plt.bar(x,y)"
   ]
  },
  {
   "cell_type": "markdown",
   "metadata": {},
   "source": [
    "That seems like a lot of code for what is a very basic looking bar chart. There has to be a better way."
   ]
  },
  {
   "cell_type": "markdown",
   "metadata": {},
   "source": [
    "### Histogram "
   ]
  },
  {
   "cell_type": "markdown",
   "metadata": {},
   "source": [
    "Becasue I am interested in one quantitive variable (mass) I will use a histogram, and to see if there are any clear differences in mass between the sexes I will plot each gender with a different colour.\n",
    "\n",
    "I will use seaborn's [displot function](https://seaborn.pydata.org/generated/seaborn.displot.html#seaborn.displot) to plot this. \n",
    "\n"
   ]
  },
  {
   "cell_type": "code",
   "execution_count": 12,
   "metadata": {},
   "outputs": [
    {
     "name": "stderr",
     "output_type": "stream",
     "text": [
      "c:\\Users\\Marcella\\anaconda3\\Lib\\site-packages\\seaborn\\axisgrid.py:118: UserWarning: The figure layout has changed to tight\n",
      "  self._figure.tight_layout(*args, **kwargs)\n"
     ]
    },
    {
     "data": {
      "text/plain": [
       "Text(0.5, 1.0, 'Mass')"
      ]
     },
     "execution_count": 12,
     "metadata": {},
     "output_type": "execute_result"
    },
    {
     "data": {
      "image/png": "[encoded data removed]",
      "text/plain": [
       "<Figure size 604.75x500 with 1 Axes>"
      ]
     },
     "metadata": {},
     "output_type": "display_data"
    }
   ],
   "source": [
    "# In the displot function I can use the 'hue' parameter to plot the variable 'sex', which is a quantitative variable.\n",
    "\n",
    "sns.displot(data=df, x=\"body_mass_g\", hue=\"sex\")\n",
    "\n",
    "\n",
    "# Axis labels and title\n",
    "\n",
    "plt.xlabel('mass_g')\n",
    "plt.title ('Mass')"
   ]
  },
  {
   "cell_type": "markdown",
   "metadata": {},
   "source": [
    "Sadly my prejudice was correct. The largest penguins are all male. Though there are some small males, the smallest are female. \n"
   ]
  },
  {
   "cell_type": "markdown",
   "metadata": {},
   "source": [
    "## Mass and Species"
   ]
  },
  {
   "cell_type": "markdown",
   "metadata": {},
   "source": [
    "I'm interested in seeing how the mass differs between the three different species."
   ]
  },
  {
   "cell_type": "code",
   "execution_count": 14,
   "metadata": {},
   "outputs": [
    {
     "name": "stderr",
     "output_type": "stream",
     "text": [
      "c:\\Users\\Marcella\\anaconda3\\Lib\\site-packages\\seaborn\\axisgrid.py:118: UserWarning: The figure layout has changed to tight\n",
      "  self._figure.tight_layout(*args, **kwargs)\n"
     ]
    },
    {
     "data": {
      "text/plain": [
       "<seaborn.axisgrid.FacetGrid at 0x199fb5c5a10>"
      ]
     },
     "execution_count": 14,
     "metadata": {},
     "output_type": "execute_result"
    },
    {
     "data": {
      "image/png": "[encoded data removed]",
      "text/plain": [
       "<Figure size 617x500 with 1 Axes>"
      ]
     },
     "metadata": {},
     "output_type": "display_data"
    }
   ],
   "source": [
    "# I'm going to change the hue to species to see if there are difference in mass between the species.\n",
    "\n",
    "sns.displot(data=df, x=\"body_mass_g\", hue=\"species\")"
   ]
  },
  {
   "cell_type": "markdown",
   "metadata": {},
   "source": [
    "So it looks like Adelie and chinstrap are about the same size with gentoo being a lot bigger.\n",
    "\n",
    "It would be interesting to see if the difference in male and female mass are similar across all the species. And if they aren't then why not?\n",
    "\n",
    "This is the long way around again but I want to see a plot of each species and the mean mass of males and females. So I need to \n",
    "create those datasets first."
   ]
  },
  {
   "cell_type": "code",
   "execution_count": 17,
   "metadata": {},
   "outputs": [
    {
     "name": "stdout",
     "output_type": "stream",
     "text": [
      "4043.4931506849316 3938.970588235294 5484.836065573771\n",
      "3368.8356164383563 3527.205882352941 4679.741379310345\n"
     ]
    }
   ],
   "source": [
    "# Going to repeat what I did earlier to get the mean mass of each species\n",
    "\n",
    "maleadelie = maledata[maledata['species'] =='Adelie']\n",
    "femaleadelie = femaledata[femaledata['species']=='Adelie']\n",
    "malechinstrap = maledata[maledata['species'] == 'Chinstrap']\n",
    "femalechinstrap = femaledata[femaledata['species']=='Chinstrap']\n",
    "malegentoo = maledata[maledata['species'] == 'Gentoo']\n",
    "femalegentoo = femaledata[femaledata['species']=='Gentoo']\n",
    "\n",
    "# Now need to convert to numpy arrays\n",
    "malemassadelie = maleadelie[\"body_mass_g\"]. to_numpy()\n",
    "femalemassadelie = femaleadelie[\"body_mass_g\"]. to_numpy() \n",
    "malemasschinstrap = malechinstrap[\"body_mass_g\"]. to_numpy()\n",
    "femalemasschinstrap = femalechinstrap[\"body_mass_g\"]. to_numpy() \n",
    "malemassgentoo = malegentoo[\"body_mass_g\"]. to_numpy()\n",
    "femalemassgentoo = femalegentoo[\"body_mass_g\"]. to_numpy() \n",
    "\n",
    "# Getting the mean\n",
    "malemassadeliemean = np.mean(malemassadelie)\n",
    "femalemassadeliemean = np.mean(femalemassadelie)\n",
    "malemasschinstrapmean = np.mean(malemasschinstrap)\n",
    "femalemasschinstrapmean = np.mean(femalemasschinstrap)\n",
    "malemassgentoomean = np.mean(malemassgentoo)\n",
    "femalemassgentoomean = np.mean(femalemassgentoo)\n",
    "\n",
    "print (malemassadeliemean,malemasschinstrapmean, malemassgentoomean)\n",
    "print (femalemassadeliemean, femalemasschinstrapmean, femalemassgentoomean)"
   ]
  },
  {
   "cell_type": "code",
   "execution_count": 18,
   "metadata": {},
   "outputs": [
    {
     "data": {
      "text/plain": [
       "<BarContainer object of 6 artists>"
      ]
     },
     "execution_count": 18,
     "metadata": {},
     "output_type": "execute_result"
    },
    {
     "data": {
      "image/png": "[encoded data removed]",
      "text/plain": [
       "<Figure size 640x480 with 1 Axes>"
      ]
     },
     "metadata": {},
     "output_type": "display_data"
    }
   ],
   "source": [
    "# Now to do the barchart\n",
    "\n",
    "data = {'male mass Adelie':malemassadeliemean, 'female mass Adelie':femalemassadeliemean,\n",
    "        'male mass Chinstrap':malemasschinstrapmean, 'female mass Chinstrap':femalemasschinstrapmean,\n",
    "        'male mass Gentoo':malemassgentoomean, 'female mass Gentoo':femalemassgentoomean,}\n",
    "x = list(data.keys())\n",
    "y = list(data.values())\n",
    "  \n",
    "plt.bar(x,y)"
   ]
  },
  {
   "cell_type": "markdown",
   "metadata": {},
   "source": [
    "So in all the species the famales are smaller than the males. It looks like they are smaller than the males by around the same amount. But lets just look and see by how much."
   ]
  },
  {
   "cell_type": "code",
   "execution_count": 24,
   "metadata": {},
   "outputs": [
    {
     "name": "stdout",
     "output_type": "stream",
     "text": [
      "Adeleie diff:  16.68501736258152\n",
      "Chinstrap diff:  10.453612096322574\n",
      "Gentoo diff:  14.6785551407215\n"
     ]
    }
   ],
   "source": [
    "print (\"Adeleie diff: \", ((malemassadeliemean - femalemassadeliemean) / malemassadeliemean) * 100)\n",
    "print (\"Chinstrap diff: \", ((malemasschinstrapmean - femalemasschinstrapmean) / malemasschinstrapmean) * 100)\n",
    "print (\"Gentoo diff: \", ((malemassgentoomean - femalemassgentoomean) / malemassgentoomean) * 100)"
   ]
  },
  {
   "cell_type": "markdown",
   "metadata": {},
   "source": [
    "So Gentoo and Adelie are fairly similar with Chinstrap difference being a bit less. Though there were less Chinstrap samples and that might have had an affect."
   ]
  },
  {
   "cell_type": "markdown",
   "metadata": {},
   "source": [
    "# My Analysis\n",
    "I'm also interested in if the bill length and bill depth are correlated to mass. Do the bigger penguins have bigger beaks?\n",
    "\n",
    "Project (40%)\n",
    "Select two variables from the data set and provide an analysis of how correlated they are.\n",
    "\n",
    "\n",
    "It would be interesting to measure the correlation between the mass of the birds and the size of their beaks. Is it a case that the bigger the bird the bigger the beak? Or are there some wee little penguins out there with massive honkers?\n",
    "# Measure the correlation.\n",
    "np.corrcoef(plen, pwidth)\n",
    "array([[1.        , 0.96286543],\n",
    "       [0.96286543, 1.        ]])"
   ]
  },
  {
   "cell_type": "markdown",
   "metadata": {},
   "source": [
    "***\n",
    "\n",
    "### End"
   ]
  }
 ],
 "metadata": {
  "kernelspec": {
   "display_name": "base",
   "language": "python",
   "name": "python3"
  },
  "language_info": {
   "codemirror_mode": {
    "name": "ipython",
    "version": 3
   },
   "file_extension": ".py",
   "mimetype": "text/x-python",
   "name": "python",
   "nbconvert_exporter": "python",
   "pygments_lexer": "ipython3",
   "version": "3.11.5"
  }
 },
 "nbformat": 4,
 "nbformat_minor": 2
}
